{
 "cells": [
  {
   "cell_type": "code",
   "execution_count": 2,
   "metadata": {},
   "outputs": [],
   "source": [
    "import pandas as pd \n",
    "import numpy as np\n",
    "import matplotlib.pyplot as plt \n",
    "import seaborn as sns \n",
    "import datetime\n",
    "from sklearn.model_selection import train_test_split, cross_val_score\n",
    "%matplotlib inline"
   ]
  },
  {
   "cell_type": "code",
   "execution_count": 3,
   "metadata": {},
   "outputs": [],
   "source": [
    "df = pd.read_csv(\"data-fire.csv\")"
   ]
  },
  {
   "cell_type": "code",
   "execution_count": 4,
   "metadata": {},
   "outputs": [
    {
     "data": {
      "text/html": [
       "<div>\n",
       "<style scoped>\n",
       "    .dataframe tbody tr th:only-of-type {\n",
       "        vertical-align: middle;\n",
       "    }\n",
       "\n",
       "    .dataframe tbody tr th {\n",
       "        vertical-align: top;\n",
       "    }\n",
       "\n",
       "    .dataframe thead th {\n",
       "        text-align: right;\n",
       "    }\n",
       "</style>\n",
       "<table border=\"1\" class=\"dataframe\">\n",
       "  <thead>\n",
       "    <tr style=\"text-align: right;\">\n",
       "      <th></th>\n",
       "      <th>Номер пожара</th>\n",
       "      <th>Дата</th>\n",
       "      <th>X</th>\n",
       "      <th>Y</th>\n",
       "      <th>Площадь, га</th>\n",
       "      <th>температура, °С</th>\n",
       "      <th>относительная влажность, %</th>\n",
       "      <th>влажность почвы (в слое 0-10см), %</th>\n",
       "      <th>атмосферное давление, мбар</th>\n",
       "      <th>Тип растительности</th>\n",
       "    </tr>\n",
       "  </thead>\n",
       "  <tbody>\n",
       "    <tr>\n",
       "      <th>0</th>\n",
       "      <td>203679</td>\n",
       "      <td>7/5/2020</td>\n",
       "      <td>47.4856</td>\n",
       "      <td>42.9225</td>\n",
       "      <td>961</td>\n",
       "      <td>33.758</td>\n",
       "      <td>20.1</td>\n",
       "      <td>16.29</td>\n",
       "      <td>953.5</td>\n",
       "      <td>Луг</td>\n",
       "    </tr>\n",
       "    <tr>\n",
       "      <th>1</th>\n",
       "      <td>220864</td>\n",
       "      <td>7/30/2020</td>\n",
       "      <td>47.5192</td>\n",
       "      <td>42.8835</td>\n",
       "      <td>39</td>\n",
       "      <td>29.325</td>\n",
       "      <td>30.1</td>\n",
       "      <td>20.07</td>\n",
       "      <td>962.1</td>\n",
       "      <td>Луг</td>\n",
       "    </tr>\n",
       "    <tr>\n",
       "      <th>2</th>\n",
       "      <td>203570</td>\n",
       "      <td>7/5/2020</td>\n",
       "      <td>47.5200</td>\n",
       "      <td>42.8793</td>\n",
       "      <td>85</td>\n",
       "      <td>33.758</td>\n",
       "      <td>20.1</td>\n",
       "      <td>16.29</td>\n",
       "      <td>953.5</td>\n",
       "      <td>Луг</td>\n",
       "    </tr>\n",
       "    <tr>\n",
       "      <th>3</th>\n",
       "      <td>264514</td>\n",
       "      <td>10/1/2020</td>\n",
       "      <td>47.5151</td>\n",
       "      <td>42.8768</td>\n",
       "      <td>5</td>\n",
       "      <td>19.844</td>\n",
       "      <td>47.0</td>\n",
       "      <td>22.71</td>\n",
       "      <td>959.2</td>\n",
       "      <td>Луг</td>\n",
       "    </tr>\n",
       "    <tr>\n",
       "      <th>4</th>\n",
       "      <td>192992</td>\n",
       "      <td>6/15/2020</td>\n",
       "      <td>47.5627</td>\n",
       "      <td>42.6358</td>\n",
       "      <td>7</td>\n",
       "      <td>28.925</td>\n",
       "      <td>34.9</td>\n",
       "      <td>17.16</td>\n",
       "      <td>910.3</td>\n",
       "      <td>Лиственный лес</td>\n",
       "    </tr>\n",
       "  </tbody>\n",
       "</table>\n",
       "</div>"
      ],
      "text/plain": [
       "   Номер пожара       Дата        X        Y  Площадь, га  температура, °С  \\\n",
       "0        203679   7/5/2020  47.4856  42.9225          961           33.758   \n",
       "1        220864  7/30/2020  47.5192  42.8835           39           29.325   \n",
       "2        203570   7/5/2020  47.5200  42.8793           85           33.758   \n",
       "3        264514  10/1/2020  47.5151  42.8768            5           19.844   \n",
       "4        192992  6/15/2020  47.5627  42.6358            7           28.925   \n",
       "\n",
       "   относительная влажность, %  влажность почвы (в слое 0-10см), %  \\\n",
       "0                        20.1                               16.29   \n",
       "1                        30.1                               20.07   \n",
       "2                        20.1                               16.29   \n",
       "3                        47.0                               22.71   \n",
       "4                        34.9                               17.16   \n",
       "\n",
       "   атмосферное давление, мбар Тип растительности  \n",
       "0                       953.5                Луг  \n",
       "1                       962.1                Луг  \n",
       "2                       953.5                Луг  \n",
       "3                       959.2                Луг  \n",
       "4                       910.3     Лиственный лес  "
      ]
     },
     "execution_count": 4,
     "metadata": {},
     "output_type": "execute_result"
    }
   ],
   "source": [
    "df.head(5)"
   ]
  },
  {
   "cell_type": "code",
   "execution_count": 5,
   "metadata": {},
   "outputs": [
    {
     "data": {
      "text/plain": [
       "(49, 10)"
      ]
     },
     "execution_count": 5,
     "metadata": {},
     "output_type": "execute_result"
    }
   ],
   "source": [
    "df.shape"
   ]
  },
  {
   "cell_type": "markdown",
   "metadata": {},
   "source": [
    "Переводим название на английский язык"
   ]
  },
  {
   "cell_type": "code",
   "execution_count": 6,
   "metadata": {},
   "outputs": [],
   "source": [
    "df.rename(columns={df.columns[0]:'fire numbers',\n",
    "                    df.columns[1]:'date',\n",
    "                    df.columns[4]:'area',\n",
    "                    df.columns[5]:'temp',\n",
    "                    df.columns[6]:'humidity',\n",
    "                    df.columns[7]:'soil_moisture',\n",
    "                    df.columns[8]:'atm_pressure',\n",
    "                    df.columns[9]:'V_type'},\n",
    "                    inplace=True)"
   ]
  },
  {
   "cell_type": "code",
   "execution_count": 7,
   "metadata": {},
   "outputs": [
    {
     "data": {
      "text/html": [
       "<div>\n",
       "<style scoped>\n",
       "    .dataframe tbody tr th:only-of-type {\n",
       "        vertical-align: middle;\n",
       "    }\n",
       "\n",
       "    .dataframe tbody tr th {\n",
       "        vertical-align: top;\n",
       "    }\n",
       "\n",
       "    .dataframe thead th {\n",
       "        text-align: right;\n",
       "    }\n",
       "</style>\n",
       "<table border=\"1\" class=\"dataframe\">\n",
       "  <thead>\n",
       "    <tr style=\"text-align: right;\">\n",
       "      <th></th>\n",
       "      <th>fire numbers</th>\n",
       "      <th>date</th>\n",
       "      <th>X</th>\n",
       "      <th>Y</th>\n",
       "      <th>area</th>\n",
       "      <th>temp</th>\n",
       "      <th>humidity</th>\n",
       "      <th>soil_moisture</th>\n",
       "      <th>atm_pressure</th>\n",
       "      <th>V_type</th>\n",
       "    </tr>\n",
       "  </thead>\n",
       "  <tbody>\n",
       "    <tr>\n",
       "      <th>0</th>\n",
       "      <td>203679</td>\n",
       "      <td>7/5/2020</td>\n",
       "      <td>47.4856</td>\n",
       "      <td>42.9225</td>\n",
       "      <td>961</td>\n",
       "      <td>33.758</td>\n",
       "      <td>20.1</td>\n",
       "      <td>16.29</td>\n",
       "      <td>953.5</td>\n",
       "      <td>Луг</td>\n",
       "    </tr>\n",
       "    <tr>\n",
       "      <th>1</th>\n",
       "      <td>220864</td>\n",
       "      <td>7/30/2020</td>\n",
       "      <td>47.5192</td>\n",
       "      <td>42.8835</td>\n",
       "      <td>39</td>\n",
       "      <td>29.325</td>\n",
       "      <td>30.1</td>\n",
       "      <td>20.07</td>\n",
       "      <td>962.1</td>\n",
       "      <td>Луг</td>\n",
       "    </tr>\n",
       "    <tr>\n",
       "      <th>2</th>\n",
       "      <td>203570</td>\n",
       "      <td>7/5/2020</td>\n",
       "      <td>47.5200</td>\n",
       "      <td>42.8793</td>\n",
       "      <td>85</td>\n",
       "      <td>33.758</td>\n",
       "      <td>20.1</td>\n",
       "      <td>16.29</td>\n",
       "      <td>953.5</td>\n",
       "      <td>Луг</td>\n",
       "    </tr>\n",
       "    <tr>\n",
       "      <th>3</th>\n",
       "      <td>264514</td>\n",
       "      <td>10/1/2020</td>\n",
       "      <td>47.5151</td>\n",
       "      <td>42.8768</td>\n",
       "      <td>5</td>\n",
       "      <td>19.844</td>\n",
       "      <td>47.0</td>\n",
       "      <td>22.71</td>\n",
       "      <td>959.2</td>\n",
       "      <td>Луг</td>\n",
       "    </tr>\n",
       "    <tr>\n",
       "      <th>4</th>\n",
       "      <td>192992</td>\n",
       "      <td>6/15/2020</td>\n",
       "      <td>47.5627</td>\n",
       "      <td>42.6358</td>\n",
       "      <td>7</td>\n",
       "      <td>28.925</td>\n",
       "      <td>34.9</td>\n",
       "      <td>17.16</td>\n",
       "      <td>910.3</td>\n",
       "      <td>Лиственный лес</td>\n",
       "    </tr>\n",
       "  </tbody>\n",
       "</table>\n",
       "</div>"
      ],
      "text/plain": [
       "   fire numbers       date        X        Y  area    temp  humidity  \\\n",
       "0        203679   7/5/2020  47.4856  42.9225   961  33.758      20.1   \n",
       "1        220864  7/30/2020  47.5192  42.8835    39  29.325      30.1   \n",
       "2        203570   7/5/2020  47.5200  42.8793    85  33.758      20.1   \n",
       "3        264514  10/1/2020  47.5151  42.8768     5  19.844      47.0   \n",
       "4        192992  6/15/2020  47.5627  42.6358     7  28.925      34.9   \n",
       "\n",
       "   soil_moisture  atm_pressure          V_type  \n",
       "0          16.29         953.5             Луг  \n",
       "1          20.07         962.1             Луг  \n",
       "2          16.29         953.5             Луг  \n",
       "3          22.71         959.2             Луг  \n",
       "4          17.16         910.3  Лиственный лес  "
      ]
     },
     "execution_count": 7,
     "metadata": {},
     "output_type": "execute_result"
    }
   ],
   "source": [
    "df.head(5)"
   ]
  },
  {
   "cell_type": "code",
   "execution_count": 8,
   "metadata": {},
   "outputs": [
    {
     "name": "stdout",
     "output_type": "stream",
     "text": [
      "<class 'pandas.core.frame.DataFrame'>\n",
      "RangeIndex: 49 entries, 0 to 48\n",
      "Data columns (total 10 columns):\n",
      " #   Column         Non-Null Count  Dtype  \n",
      "---  ------         --------------  -----  \n",
      " 0   fire numbers   49 non-null     int64  \n",
      " 1   date           49 non-null     object \n",
      " 2   X              49 non-null     float64\n",
      " 3   Y              49 non-null     float64\n",
      " 4   area           49 non-null     int64  \n",
      " 5   temp           49 non-null     float64\n",
      " 6   humidity       49 non-null     float64\n",
      " 7   soil_moisture  49 non-null     float64\n",
      " 8   atm_pressure   49 non-null     float64\n",
      " 9   V_type         49 non-null     object \n",
      "dtypes: float64(6), int64(2), object(2)\n",
      "memory usage: 4.0+ KB\n"
     ]
    }
   ],
   "source": [
    "df.info()"
   ]
  },
  {
   "cell_type": "code",
   "execution_count": 9,
   "metadata": {},
   "outputs": [
    {
     "data": {
      "text/html": [
       "<div>\n",
       "<style scoped>\n",
       "    .dataframe tbody tr th:only-of-type {\n",
       "        vertical-align: middle;\n",
       "    }\n",
       "\n",
       "    .dataframe tbody tr th {\n",
       "        vertical-align: top;\n",
       "    }\n",
       "\n",
       "    .dataframe thead th {\n",
       "        text-align: right;\n",
       "    }\n",
       "</style>\n",
       "<table border=\"1\" class=\"dataframe\">\n",
       "  <thead>\n",
       "    <tr style=\"text-align: right;\">\n",
       "      <th></th>\n",
       "      <th>fire numbers</th>\n",
       "      <th>X</th>\n",
       "      <th>Y</th>\n",
       "      <th>area</th>\n",
       "      <th>temp</th>\n",
       "      <th>humidity</th>\n",
       "      <th>soil_moisture</th>\n",
       "      <th>atm_pressure</th>\n",
       "    </tr>\n",
       "  </thead>\n",
       "  <tbody>\n",
       "    <tr>\n",
       "      <th>count</th>\n",
       "      <td>49.000000</td>\n",
       "      <td>49.000000</td>\n",
       "      <td>49.000000</td>\n",
       "      <td>49.000000</td>\n",
       "      <td>49.000000</td>\n",
       "      <td>49.000000</td>\n",
       "      <td>49.000000</td>\n",
       "      <td>49.000000</td>\n",
       "    </tr>\n",
       "    <tr>\n",
       "      <th>mean</th>\n",
       "      <td>139643.653061</td>\n",
       "      <td>47.183271</td>\n",
       "      <td>42.488180</td>\n",
       "      <td>97.836735</td>\n",
       "      <td>16.025878</td>\n",
       "      <td>48.957143</td>\n",
       "      <td>27.438571</td>\n",
       "      <td>887.863265</td>\n",
       "    </tr>\n",
       "    <tr>\n",
       "      <th>std</th>\n",
       "      <td>99941.919391</td>\n",
       "      <td>0.574760</td>\n",
       "      <td>0.486414</td>\n",
       "      <td>184.406407</td>\n",
       "      <td>8.884035</td>\n",
       "      <td>16.539549</td>\n",
       "      <td>7.554540</td>\n",
       "      <td>76.999674</td>\n",
       "    </tr>\n",
       "    <tr>\n",
       "      <th>min</th>\n",
       "      <td>13167.000000</td>\n",
       "      <td>45.830200</td>\n",
       "      <td>41.595000</td>\n",
       "      <td>3.000000</td>\n",
       "      <td>-2.390000</td>\n",
       "      <td>20.100000</td>\n",
       "      <td>14.080000</td>\n",
       "      <td>752.500000</td>\n",
       "    </tr>\n",
       "    <tr>\n",
       "      <th>25%</th>\n",
       "      <td>26566.000000</td>\n",
       "      <td>46.829700</td>\n",
       "      <td>42.163600</td>\n",
       "      <td>12.000000</td>\n",
       "      <td>12.219000</td>\n",
       "      <td>37.100000</td>\n",
       "      <td>21.780000</td>\n",
       "      <td>807.500000</td>\n",
       "    </tr>\n",
       "    <tr>\n",
       "      <th>50%</th>\n",
       "      <td>143057.000000</td>\n",
       "      <td>47.456200</td>\n",
       "      <td>42.333100</td>\n",
       "      <td>26.000000</td>\n",
       "      <td>14.382000</td>\n",
       "      <td>48.100000</td>\n",
       "      <td>27.470000</td>\n",
       "      <td>910.300000</td>\n",
       "    </tr>\n",
       "    <tr>\n",
       "      <th>75%</th>\n",
       "      <td>204400.000000</td>\n",
       "      <td>47.664300</td>\n",
       "      <td>42.883500</td>\n",
       "      <td>90.000000</td>\n",
       "      <td>19.844000</td>\n",
       "      <td>60.500000</td>\n",
       "      <td>30.730000</td>\n",
       "      <td>953.500000</td>\n",
       "    </tr>\n",
       "    <tr>\n",
       "      <th>max</th>\n",
       "      <td>293489.000000</td>\n",
       "      <td>47.834500</td>\n",
       "      <td>43.369900</td>\n",
       "      <td>961.000000</td>\n",
       "      <td>33.758000</td>\n",
       "      <td>90.700000</td>\n",
       "      <td>43.770000</td>\n",
       "      <td>1023.600000</td>\n",
       "    </tr>\n",
       "  </tbody>\n",
       "</table>\n",
       "</div>"
      ],
      "text/plain": [
       "        fire numbers          X          Y        area       temp   humidity  \\\n",
       "count      49.000000  49.000000  49.000000   49.000000  49.000000  49.000000   \n",
       "mean   139643.653061  47.183271  42.488180   97.836735  16.025878  48.957143   \n",
       "std     99941.919391   0.574760   0.486414  184.406407   8.884035  16.539549   \n",
       "min     13167.000000  45.830200  41.595000    3.000000  -2.390000  20.100000   \n",
       "25%     26566.000000  46.829700  42.163600   12.000000  12.219000  37.100000   \n",
       "50%    143057.000000  47.456200  42.333100   26.000000  14.382000  48.100000   \n",
       "75%    204400.000000  47.664300  42.883500   90.000000  19.844000  60.500000   \n",
       "max    293489.000000  47.834500  43.369900  961.000000  33.758000  90.700000   \n",
       "\n",
       "       soil_moisture  atm_pressure  \n",
       "count      49.000000     49.000000  \n",
       "mean       27.438571    887.863265  \n",
       "std         7.554540     76.999674  \n",
       "min        14.080000    752.500000  \n",
       "25%        21.780000    807.500000  \n",
       "50%        27.470000    910.300000  \n",
       "75%        30.730000    953.500000  \n",
       "max        43.770000   1023.600000  "
      ]
     },
     "execution_count": 9,
     "metadata": {},
     "output_type": "execute_result"
    }
   ],
   "source": [
    "df.describe()"
   ]
  },
  {
   "cell_type": "markdown",
   "metadata": {},
   "source": [
    "## 2 Визуализация"
   ]
  },
  {
   "cell_type": "code",
   "execution_count": 10,
   "metadata": {},
   "outputs": [
    {
     "data": {
      "text/plain": [
       "Луг                 26\n",
       "Лиственный лес      22\n",
       "Темнохвойный лес     1\n",
       "Name: V_type, dtype: int64"
      ]
     },
     "execution_count": 10,
     "metadata": {},
     "output_type": "execute_result"
    }
   ],
   "source": [
    "df['V_type'].value_counts()"
   ]
  },
  {
   "cell_type": "code",
   "execution_count": 11,
   "metadata": {},
   "outputs": [
    {
     "data": {
      "text/plain": [
       "<AxesSubplot:xlabel='V_type', ylabel='count'>"
      ]
     },
     "execution_count": 11,
     "metadata": {},
     "output_type": "execute_result"
    },
    {
     "data": {
      "image/png": "[encoded data removed]",
      "text/plain": [
       "<Figure size 432x288 with 1 Axes>"
      ]
     },
     "metadata": {
      "needs_background": "light"
     },
     "output_type": "display_data"
    }
   ],
   "source": [
    "sns.countplot(x=df[\"V_type\"],hue=df[\"V_type\"])"
   ]
  },
  {
   "cell_type": "code",
   "execution_count": 12,
   "metadata": {},
   "outputs": [],
   "source": [
    "df[\"month_f\"]=df['date'].apply(lambda date:int(date.split(\"/\")[0]))"
   ]
  },
  {
   "cell_type": "code",
   "execution_count": 13,
   "metadata": {},
   "outputs": [
    {
     "data": {
      "text/html": [
       "<div>\n",
       "<style scoped>\n",
       "    .dataframe tbody tr th:only-of-type {\n",
       "        vertical-align: middle;\n",
       "    }\n",
       "\n",
       "    .dataframe tbody tr th {\n",
       "        vertical-align: top;\n",
       "    }\n",
       "\n",
       "    .dataframe thead th {\n",
       "        text-align: right;\n",
       "    }\n",
       "</style>\n",
       "<table border=\"1\" class=\"dataframe\">\n",
       "  <thead>\n",
       "    <tr style=\"text-align: right;\">\n",
       "      <th></th>\n",
       "      <th>fire numbers</th>\n",
       "      <th>date</th>\n",
       "      <th>X</th>\n",
       "      <th>Y</th>\n",
       "      <th>area</th>\n",
       "      <th>temp</th>\n",
       "      <th>humidity</th>\n",
       "      <th>soil_moisture</th>\n",
       "      <th>atm_pressure</th>\n",
       "      <th>V_type</th>\n",
       "      <th>month_f</th>\n",
       "    </tr>\n",
       "  </thead>\n",
       "  <tbody>\n",
       "    <tr>\n",
       "      <th>0</th>\n",
       "      <td>203679</td>\n",
       "      <td>7/5/2020</td>\n",
       "      <td>47.4856</td>\n",
       "      <td>42.9225</td>\n",
       "      <td>961</td>\n",
       "      <td>33.758</td>\n",
       "      <td>20.1</td>\n",
       "      <td>16.29</td>\n",
       "      <td>953.5</td>\n",
       "      <td>Луг</td>\n",
       "      <td>7</td>\n",
       "    </tr>\n",
       "    <tr>\n",
       "      <th>1</th>\n",
       "      <td>220864</td>\n",
       "      <td>7/30/2020</td>\n",
       "      <td>47.5192</td>\n",
       "      <td>42.8835</td>\n",
       "      <td>39</td>\n",
       "      <td>29.325</td>\n",
       "      <td>30.1</td>\n",
       "      <td>20.07</td>\n",
       "      <td>962.1</td>\n",
       "      <td>Луг</td>\n",
       "      <td>7</td>\n",
       "    </tr>\n",
       "    <tr>\n",
       "      <th>2</th>\n",
       "      <td>203570</td>\n",
       "      <td>7/5/2020</td>\n",
       "      <td>47.5200</td>\n",
       "      <td>42.8793</td>\n",
       "      <td>85</td>\n",
       "      <td>33.758</td>\n",
       "      <td>20.1</td>\n",
       "      <td>16.29</td>\n",
       "      <td>953.5</td>\n",
       "      <td>Луг</td>\n",
       "      <td>7</td>\n",
       "    </tr>\n",
       "    <tr>\n",
       "      <th>3</th>\n",
       "      <td>264514</td>\n",
       "      <td>10/1/2020</td>\n",
       "      <td>47.5151</td>\n",
       "      <td>42.8768</td>\n",
       "      <td>5</td>\n",
       "      <td>19.844</td>\n",
       "      <td>47.0</td>\n",
       "      <td>22.71</td>\n",
       "      <td>959.2</td>\n",
       "      <td>Луг</td>\n",
       "      <td>10</td>\n",
       "    </tr>\n",
       "    <tr>\n",
       "      <th>4</th>\n",
       "      <td>192992</td>\n",
       "      <td>6/15/2020</td>\n",
       "      <td>47.5627</td>\n",
       "      <td>42.6358</td>\n",
       "      <td>7</td>\n",
       "      <td>28.925</td>\n",
       "      <td>34.9</td>\n",
       "      <td>17.16</td>\n",
       "      <td>910.3</td>\n",
       "      <td>Лиственный лес</td>\n",
       "      <td>6</td>\n",
       "    </tr>\n",
       "  </tbody>\n",
       "</table>\n",
       "</div>"
      ],
      "text/plain": [
       "   fire numbers       date        X        Y  area    temp  humidity  \\\n",
       "0        203679   7/5/2020  47.4856  42.9225   961  33.758      20.1   \n",
       "1        220864  7/30/2020  47.5192  42.8835    39  29.325      30.1   \n",
       "2        203570   7/5/2020  47.5200  42.8793    85  33.758      20.1   \n",
       "3        264514  10/1/2020  47.5151  42.8768     5  19.844      47.0   \n",
       "4        192992  6/15/2020  47.5627  42.6358     7  28.925      34.9   \n",
       "\n",
       "   soil_moisture  atm_pressure          V_type  month_f  \n",
       "0          16.29         953.5             Луг        7  \n",
       "1          20.07         962.1             Луг        7  \n",
       "2          16.29         953.5             Луг        7  \n",
       "3          22.71         959.2             Луг       10  \n",
       "4          17.16         910.3  Лиственный лес        6  "
      ]
     },
     "execution_count": 13,
     "metadata": {},
     "output_type": "execute_result"
    }
   ],
   "source": [
    "df.head(5)"
   ]
  },
  {
   "cell_type": "code",
   "execution_count": 14,
   "metadata": {},
   "outputs": [],
   "source": [
    "def to_month(num_month):\n",
    "    month = ['jan','fab','mar','apr','may','jun','jul','aug','sep','oct','nov','dec']\n",
    "    return month[num_month-1]\n",
    "\n",
    "def to_day_week(date):\n",
    "    month = int(date.split('/')[0])\n",
    "    day = int(date.split('/')[1])\n",
    "    year = int(date.split('/')[2])\n",
    "    today = datetime.datetime(year,month,day)\n",
    "    num_day_week = today.weekday()\n",
    "    days_week = ['mon','tue','wed','thu','fri','sat','sun']\n",
    "    return days_week[num_day_week]"
   ]
  },
  {
   "cell_type": "markdown",
   "metadata": {},
   "source": [
    "## 2.3 кол-во прожаров по месяцам каждой ростительности"
   ]
  },
  {
   "cell_type": "markdown",
   "metadata": {},
   "source": []
  },
  {
   "cell_type": "code",
   "execution_count": 15,
   "metadata": {},
   "outputs": [
    {
     "data": {
      "text/plain": [
       "<AxesSubplot:xlabel='month_f', ylabel='count'>"
      ]
     },
     "execution_count": 15,
     "metadata": {},
     "output_type": "execute_result"
    },
    {
     "data": {
      "image/png": "[encoded data removed]",
      "text/plain": [
       "<Figure size 432x288 with 1 Axes>"
      ]
     },
     "metadata": {
      "needs_background": "light"
     },
     "output_type": "display_data"
    }
   ],
   "source": [
    "sns.countplot(x=df['month_f'].apply(lambda num_month: to_month(num_month)),hue=df[\"V_type\"])"
   ]
  },
  {
   "cell_type": "markdown",
   "metadata": {},
   "source": [
    "## 2.4 количество ростительности оп дням недели каждой ростительности"
   ]
  },
  {
   "cell_type": "code",
   "execution_count": 16,
   "metadata": {},
   "outputs": [
    {
     "data": {
      "text/plain": [
       "<AxesSubplot:xlabel='date', ylabel='count'>"
      ]
     },
     "execution_count": 16,
     "metadata": {},
     "output_type": "execute_result"
    },
    {
     "data": {
      "image/png": "[encoded data removed]",
      "text/plain": [
       "<Figure size 432x288 with 1 Axes>"
      ]
     },
     "metadata": {
      "needs_background": "light"
     },
     "output_type": "display_data"
    }
   ],
   "source": [
    "sns.countplot(x=df[\"date\"].apply(lambda date:to_day_week(date)),hue=df[\"V_type\"])"
   ]
  },
  {
   "cell_type": "code",
   "execution_count": 17,
   "metadata": {},
   "outputs": [
    {
     "data": {
      "text/plain": [
       "Text(0.5, 1.0, 'Распределение пожаров')"
      ]
     },
     "execution_count": 17,
     "metadata": {},
     "output_type": "execute_result"
    },
    {
     "data": {
      "image/png": "[encoded data removed]",
      "text/plain": [
       "<Figure size 504x504 with 1 Axes>"
      ]
     },
     "metadata": {
      "needs_background": "light"
     },
     "output_type": "display_data"
    }
   ],
   "source": [
    "lugs = df[(df['V_type'] == 'Луг')]\n",
    "d_forest = df[(df['V_type'] == 'Лиственный лес')]\n",
    "dc_forest = df[(df['V_type'] == 'Темнохвойный лес')]\n",
    "\n",
    "plt.figure(figsize=(7,7))\n",
    "plt.scatter(lugs['temp'],lugs['area'],color=\"orange\",label = 'Луг')\n",
    "plt.scatter(d_forest['temp'],d_forest['area'],color=\"blue\",label = 'Лиственный лес')\n",
    "plt.scatter(dc_forest['temp'],dc_forest['area'],color=\"green\",label = 'Темнохвойный лес')\n",
    "plt.xlabel(\"Температура\")\n",
    "plt.ylabel(\"Площадь пожара\")\n",
    "plt.title(\"Распределение пожаров\")"
   ]
  },
  {
   "cell_type": "code",
   "execution_count": 20,
   "metadata": {},
   "outputs": [],
   "source": [
    "def forecast_area(date,X,Y,temp,humidity,soil_moisture,atm_pressure,V_type):\n",
    "    df = pd.read_csv(\"data-fire.csv\")\n",
    "    df.rename(columns={df.columns[0]:'fire_numbers',\n",
    "                    df.columns[1]:'date',\n",
    "                    df.columns[4]:'area',\n",
    "                    df.columns[5]:'temp',\n",
    "                    df.columns[6]:'humidity',\n",
    "                    df.columns[7]:'soil_moisture',\n",
    "                    df.columns[8]:'atm_pressure',\n",
    "                    df.columns[9]:'V_type'},\n",
    "                    inplace=True)\n",
    "    df.drop(['fire_numbers',\"X\",\"Y\",\"date\"],axis=1,inplace=True)\n",
    "\n",
    "    df = df[(df['V_type'] == V_type )]\n",
    "\n",
    "    df[\"V_type\"] = df[\"V_type\"].map({\"Луг\" : 0,\"Лиственный лес\":1,\"Темнохвойный лес\":2})\n",
    "\n",
    "\n",
    "    Data = [['1', date, X, Y, '0', temp, humidity, soil_moisture, atm_pressure, V_type]]\n",
    "    df_test = pd.DataFrame(Data, columns=['fire_numbers', 'date', 'X', 'Y', 'area', \n",
    "                   'temp', 'humidity', 'soil_moisture', 'atm_pressure', 'V_type'])\n",
    "    \n",
    "    df_test.drop(['fire_numbers', 'X', 'Y', 'date'], axis=1, inplace=True)\n",
    "    df_test['V_type'] = df_test['V_type'].map({'Луг': 0, 'Лиственный лес': 1, 'Темнохвойный лес': 2})\n",
    "    \n",
    "    y_train = df['area'].astype('int')\n",
    "    X_train = df.drop('area', axis=1)\n",
    "    y_valid = df_test['area'].astype('int')\n",
    "    X_valid = df_test.drop('area', axis=1)\n",
    "    \n",
    "    from sklearn.linear_model import LinearRegression\n",
    "    model = LinearRegression()\n",
    "    model.fit(X_train, y_train)\n",
    "    \n",
    "    area_fire_pred = model.predict(X_valid)[0]\n",
    "    \n",
    "    if area_fire_pred < 0:\n",
    "        area_fire_pred = 0\n",
    "        \n",
    "    accuracy = model.score(X_train, y_train)\n",
    "    \n",
    "    return (area_fire_pred, accuracy)\n"
   ]
  },
  {
   "cell_type": "code",
   "execution_count": 21,
   "metadata": {},
   "outputs": [
    {
     "name": "stdout",
     "output_type": "stream",
     "text": [
      "(43.38673459560869, 0.17556074256004206)\n"
     ]
    }
   ],
   "source": [
    "print(forecast_area('8/9/2021', 42.940179, 47.519348, 29, 50, 9, 1007, 'Луг'))"
   ]
  }
 ],
 "metadata": {
  "interpreter": {
   "hash": "b957989125644d05f5aef145e9edb478eb587b29d560cc73a26a050d035fdbe2"
  },
  "kernelspec": {
   "display_name": "Python 3.9.7 64-bit",
   "language": "python",
   "name": "python3"
  },
  "language_info": {
   "codemirror_mode": {
    "name": "ipython",
    "version": 3
   },
   "file_extension": ".py",
   "mimetype": "text/x-python",
   "name": "python",
   "nbconvert_exporter": "python",
   "pygments_lexer": "ipython3",
   "version": "3.9.7"
  },
  "orig_nbformat": 4
 },
 "nbformat": 4,
 "nbformat_minor": 2
}
